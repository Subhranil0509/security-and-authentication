{
 "cells": [
  {
   "cell_type": "code",
   "execution_count": 1,
   "id": "2e18b78f-a37e-4b9c-aac1-ac8814c0908b",
   "metadata": {},
   "outputs": [
    {
     "name": "stdout",
     "output_type": "stream",
     "text": [
      "KNN Accuracy: 0.5100\n"
     ]
    }
   ],
   "source": [
    "import pandas as pd\n",
    "import numpy as np\n",
    "from sklearn.model_selection import train_test_split\n",
    "from sklearn.ensemble import RandomForestClassifier, GradientBoostingClassifier\n",
    "from sklearn.tree import DecisionTreeClassifier\n",
    "from sklearn.neighbors import KNeighborsClassifier\n",
    "from sklearn.metrics import accuracy_score\n",
    "from scipy.stats import entropy\n",
    "\n",
    "\n",
    "# Load the dataset\n",
    "data = pd.read_csv('TrainingData.csv')\n",
    "\n",
    "\n",
    "# Feature extraction functions\n",
    "def extract_features(bitstream):\n",
    "    bits = np.array([int(b) for b in bitstream])\n",
    "    return {\n",
    "        \"count_ones\": np.sum(bits),\n",
    "        \"runs\": np.sum(np.diff(bits) != 0) + 1,\n",
    "        \"entropy\": entropy(np.bincount(bits, minlength=2) / len(bits)),\n",
    "        \"bit_transitions\": np.sum(bits[:-1] != bits[1:]),\n",
    "    }\n",
    "\n",
    "\n",
    "# Apply feature extraction\n",
    "features = data[\"Bitstream\"].apply(extract_features).apply(pd.Series)\n",
    "processed_data = pd.concat([features, data[\"class\"]], axis=1)\n",
    "\n",
    "\n",
    "# Split data into features (X) and target (y)\n",
    "X = processed_data.drop(columns=[\"class\"])\n",
    "y = processed_data[\"class\"]\n",
    "\n",
    "\n",
    "# Split into training and testing sets\n",
    "X_train, X_test, y_train, y_test = train_test_split(X, y, test_size=0.2, random_state=42)\n",
    "\n",
    "\n",
    "# KNN\n",
    "knn_model = KNeighborsClassifier()\n",
    "knn_model.fit(X_train, y_train)\n",
    "knn_y_pred = knn_model.predict(X_test)\n",
    "knn_accuracy = accuracy_score(y_test, knn_y_pred)\n",
    "print(f\"KNN Accuracy: {knn_accuracy:.4f}\")"
   ]
  },
  {
   "cell_type": "code",
   "execution_count": null,
   "id": "31d64c06-0596-4452-ba49-f764d31c6ee3",
   "metadata": {},
   "outputs": [],
   "source": []
  }
 ],
 "metadata": {
  "kernelspec": {
   "display_name": "Python 3 (ipykernel)",
   "language": "python",
   "name": "python3"
  },
  "language_info": {
   "codemirror_mode": {
    "name": "ipython",
    "version": 3
   },
   "file_extension": ".py",
   "mimetype": "text/x-python",
   "name": "python",
   "nbconvert_exporter": "python",
   "pygments_lexer": "ipython3",
   "version": "3.11.5"
  }
 },
 "nbformat": 4,
 "nbformat_minor": 5
}
